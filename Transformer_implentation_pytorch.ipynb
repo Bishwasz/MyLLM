{
  "cells": [
    {
      "cell_type": "markdown",
      "metadata": {
        "id": "JIugZrXeq8kp"
      },
      "source": []
    },
    {
      "cell_type": "markdown",
      "metadata": {
        "id": "WyPPms16q-a6"
      },
      "source": [
        "Imports"
      ]
    },
    {
      "cell_type": "code",
      "execution_count": 9,
      "metadata": {
        "id": "jrPYMbDIrAlK"
      },
      "outputs": [],
      "source": [
        "import torch\n",
        "import torch.nn as nn\n",
        "from torch.nn import functional as F\n",
        "import math\n",
        "import matplotlib.pyplot as plt"
      ]
    },
    {
      "cell_type": "markdown",
      "metadata": {
        "id": "fBZQlJrCrCLR"
      },
      "source": [
        "Load Data\n"
      ]
    },
    {
      "cell_type": "code",
      "execution_count": 10,
      "metadata": {
        "colab": {
          "base_uri": "https://localhost:8080/"
        },
        "id": "ha16SnYjrD0w",
        "outputId": "7fa3c4c8-ac35-4128-ef1f-168037740ba1"
      },
      "outputs": [
        {
          "name": "stdout",
          "output_type": "stream",
          "text": [
            "Vocab Size 78\n"
          ]
        }
      ],
      "source": [
        "with open('alllines.txt', 'r', encoding='utf-8') as f:\n",
        "    text = f.read()\n",
        "chars = sorted(list(set(text)))\n",
        "vocab_size = len(chars)\n",
        "stoi = { ch:i for i,ch in enumerate(chars) }\n",
        "itos = { i:ch for i,ch in enumerate(chars) }\n",
        "def decode(x):# decoder: take a list of integers, output a string\n",
        "    return ''.join([itos[i] for i in x])\n",
        "def encode(x):# encoder: take a string, output a list of integers\n",
        "    return [stoi[c] for c in x]\n",
        "data = torch.tensor(encode(text), dtype=torch.long)\n",
        "\n",
        "\n",
        "print(\"Vocab Size\",vocab_size)\n",
        "\n",
        "\n",
        "def get_batch(split):\n",
        "    # generate a small batch of data of inputs x and targets y\n",
        "    data = train_data if split == 'train' else val_data\n",
        "    ix = torch.randint(len(data) - block_size, (batch_size,))\n",
        "    x = torch.stack([data[i:i+block_size] for i in ix])\n",
        "    y = torch.stack([data[i+1:i+block_size+1] for i in ix])\n",
        "\n",
        "    return x, y\n",
        "#Split data into training and validation\n",
        "n = int(0.9*len(data)) # first 90% will be train, rest val\n",
        "train_data = data[:n]\n",
        "val_data = data[n:]"
      ]
    },
    {
      "cell_type": "markdown",
      "metadata": {
        "id": "uu4cF-20rSZB"
      },
      "source": [
        "Make modules for Transformer block"
      ]
    },
    {
      "cell_type": "code",
      "execution_count": 11,
      "metadata": {
        "id": "2Vxd0vA1rYz9"
      },
      "outputs": [],
      "source": [
        "class FeedForward(nn.Module):\n",
        "  def __init__(self, d_model):\n",
        "        super().__init__()\n",
        "        self.model = nn.Sequential(\n",
        "            nn.Linear(d_model, 4 * d_model),\n",
        "            nn.ReLU(),\n",
        "            nn.Linear(4 * d_model, d_model),\n",
        "            nn.Dropout(dropout),\n",
        "        )\n",
        "  def forward(self,x):\n",
        "    return self.model(x)\n",
        "class Head(nn.Module):\n",
        "    def __init__(self, d_model, dk):\n",
        "        super(Head, self).__init__()\n",
        "        self.dk = dk\n",
        "        self.key = nn.Linear(d_model, dk, bias=False)\n",
        "        self.query = nn.Linear(d_model, dk, bias=False)\n",
        "        self.value = nn.Linear(d_model, dk, bias=False)\n",
        "        self.dropout=nn.Dropout(dropout)\n",
        "        self.register_buffer('tril', torch.tril(torch.ones(block_size, block_size)))\n",
        "\n",
        "    def forward(self, x):\n",
        "        B,T,C = x.shape\n",
        "        k = self.key(x)\n",
        "        q = self.query(x)\n",
        "        v = self.value(x)\n",
        "\n",
        "        wei = (q @ k.transpose(-2,-1)) /(C**0.5)\n",
        "        wei = wei.masked_fill(self.tril[:T, :T] == 0, float('-inf')) # masking the block\n",
        "\n",
        "        wei = F.softmax(wei, dim=-1)\n",
        "        wei = self.dropout(wei)\n",
        "\n",
        "        out = wei @ v\n",
        "        return out\n",
        "class MultiHead(nn.Module):\n",
        "    def __init__(self, num_head, d_model, dk):\n",
        "        super(MultiHead, self).__init__()\n",
        "        self.num_head = num_head\n",
        "        self.heads = nn.ModuleList([Head(d_model, dk) for _ in range(num_head)])\n",
        "        self.linear_transform_O = nn.Linear(num_head * dk, d_model)\n",
        "        self.dropout=nn.Dropout(dropout)\n",
        "\n",
        "    def forward(self, x):\n",
        "\n",
        "        head_outputs = [head(x) for head in self.heads]\n",
        "        concatenated = torch.cat(head_outputs, dim=2) # Batch_size, seq_length, embedding_Size\n",
        "        multi_head = self.linear_transform_O(concatenated)\n",
        "        multi_head=self.dropout(multi_head)\n",
        "        return multi_head\n",
        "\n",
        "class DecoderOnlyBlock(nn.Module):\n",
        "    def __init__(self, num_head, d_model):\n",
        "        super().__init__()\n",
        "        dk=d_model//num_head\n",
        "        self.masked_multiHead = MultiHead(num_head, d_model, dk)\n",
        "        self.non_Linear = FeedForward(d_model)\n",
        "        self.layer_norm1 = nn.LayerNorm(d_model)\n",
        "        self.layer_norm2 = nn.LayerNorm(d_model)\n",
        "        self.layer_norm3 = nn.LayerNorm(d_model)\n",
        "\n",
        "    def forward(self, decoder_input):\n",
        "        x = self.masked_multiHead(decoder_input)\n",
        "        # Add and Norm 1\n",
        "\n",
        "        add_norm1 = self.layer_norm1(decoder_input + x)\n",
        "\n",
        "\n",
        "        # Add and Norm 2\n",
        "        add_norm2 = self.layer_norm2(add_norm1 + x)\n",
        "\n",
        "        # Feed Forward\n",
        "        x = self.non_Linear(add_norm2)\n",
        "\n",
        "        # Add and Norm 3\n",
        "        add_norm3 = self.layer_norm3(add_norm2 + x)\n",
        "        return add_norm3\n"
      ]
    },
    {
      "cell_type": "markdown",
      "metadata": {
        "id": "OElxntb2rlS_"
      },
      "source": [
        "Assemble the modules to build a decoder Block\n"
      ]
    },
    {
      "cell_type": "code",
      "execution_count": 12,
      "metadata": {
        "id": "0IcR7-1artwX"
      },
      "outputs": [],
      "source": [
        "class My_GPT(nn.Module):\n",
        "    def __init__(self, num_head, d_model, n_layer, vocab_size, context_size):\n",
        "        super(My_GPT, self).__init__()\n",
        "        self.token_embedding_table = nn.Embedding(vocab_size, d_model)\n",
        "        self.position_embedding_table = nn.Embedding(context_size, d_model)\n",
        "        self.decoders = nn.Sequential(*[DecoderOnlyBlock(num_head, d_model) for _ in range(n_layer)]) # stack number of decoder\n",
        "        self.non_Linear_Final = nn.Linear(d_model, vocab_size) # last layer of MLP before softmaxing\n",
        "        self.norm = nn.LayerNorm(d_model)\n",
        "\n",
        "    def forward(self, x,targets=None):\n",
        "        # embedd input add positional encoding as well\n",
        "        ri, fi = x.shape\n",
        "        word_embed=self.token_embedding_table(x)\n",
        "        pos_embed=self.position_embedding_table(torch.arange(fi))\n",
        "        pos_shape=pos_embed.shape\n",
        "        word_shape=word_embed.shape\n",
        "        embed=word_embed+pos_embed\n",
        "\n",
        "        d=self.decoders(embed)\n",
        "        s=self.norm(d)\n",
        "        logits=self.non_Linear_Final(s) # batch_size\n",
        "        if targets is  None:\n",
        "            loss = None\n",
        "        else:\n",
        "            B, T, C = logits.shape\n",
        "            # print(logits.shape)\n",
        "            logits = logits.view(B*T, C)\n",
        "\n",
        "            targets = targets.view(B*T)\n",
        "            loss = F.cross_entropy(logits, targets)\n",
        "            # loss=F.cross_entropy(s,target)\n",
        "        return logits,loss\n",
        "    def generate(self, idx, max_new_tokens):\n",
        "        # idx is (B, T) array of indices in the current context\n",
        "        for _ in range(max_new_tokens):\n",
        "            idx_cond = idx[:, -block_size:]# Get the Maximum amount of context\n",
        "\n",
        "            logits, loss = self(idx_cond) # Infer on the context\n",
        "\n",
        "            logits = logits[:, -1, :] # Grab the new logit\n",
        "\n",
        "            probs = F.softmax(logits, dim=-1) # Softmax on the logit to get a distribution\n",
        "\n",
        "            idx_next = torch.multinomial(probs, num_samples=1) # sample from the distibution\n",
        "\n",
        "            idx = torch.cat((idx, idx_next), dim=1) # (B, T+1) add the token to input to generate the next token\n",
        "        return idx"
      ]
    },
    {
      "cell_type": "markdown",
      "metadata": {
        "id": "gxcOnY6Xr3_2"
      },
      "source": [
        "Initialize HyperParameter"
      ]
    },
    {
      "cell_type": "code",
      "execution_count": 13,
      "metadata": {
        "id": "v4fvpgl6r8Ao"
      },
      "outputs": [],
      "source": [
        "batch_size = 16 # how many independent sequences will we process in parallel?\n",
        "block_size = 32 # what is the maximum context length for predictions?\n",
        "max_iters = 1000\n",
        "eval_interval = 50\n",
        "learning_rate = 1e-3\n",
        "eval_iters = 200\n",
        "n_embd = 64\n",
        "n_head = 4 # heads in transformer\n",
        "n_layer = 4 # number of autoRegression\n",
        "dropout = 0.0"
      ]
    },
    {
      "cell_type": "markdown",
      "metadata": {
        "id": "xQL9cRxqsMrV"
      },
      "source": [
        "Training Stuff (takes some time)"
      ]
    },
    {
      "cell_type": "code",
      "execution_count": 14,
      "metadata": {
        "id": "wSfwRpB_sRVy"
      },
      "outputs": [],
      "source": [
        "@torch.no_grad()\n",
        "def estimate_loss():\n",
        "    model.eval()\n",
        "    losses = torch.zeros(eval_iters)\n",
        "\n",
        "    for k in range(eval_iters):\n",
        "          X, Y = get_batch('val')\n",
        "          logits, loss = model(X, Y)\n",
        "          losses[k] = loss.item()\n",
        "    e=losses.mean()\n",
        "    return e\n",
        "\n",
        "model = My_GPT(n_head,n_embd,n_layer,vocab_size,block_size)\n",
        "\n",
        "\n",
        "optimizer = torch.optim.AdamW(model.parameters(), lr=learning_rate)\n",
        "los=list()\n",
        "for iter in range(max_iters):\n",
        "\n",
        "    if iter % eval_interval == 0 :\n",
        "        losses = estimate_loss()\n",
        "        los.append(losses)\n",
        "\n",
        "    xb, yb = get_batch('train')\n",
        "\n",
        "    logits, loss = model(xb, yb)\n",
        "    optimizer.zero_grad(set_to_none=True)\n",
        "    loss.backward()\n",
        "    optimizer.step()"
      ]
    },
    {
      "cell_type": "markdown",
      "metadata": {
        "id": "WrEJFTU8saFr"
      },
      "source": [
        "Plotting Loss"
      ]
    },
    {
      "cell_type": "code",
      "execution_count": 15,
      "metadata": {
        "colab": {
          "base_uri": "https://localhost:8080/",
          "height": 472
        },
        "id": "KkHLas_WsZh-",
        "outputId": "f81fb1a5-8902-45a8-f01c-b3e1d8b048de"
      },
      "outputs": [
        {
          "data": {
            "image/png": "[encoded data removed]",
            "text/plain": [
              "<Figure size 640x480 with 1 Axes>"
            ]
          },
          "metadata": {},
          "output_type": "display_data"
        }
      ],
      "source": [
        "plt.plot(los)\n",
        "\n",
        "# Adding labels to the axes\n",
        "plt.xlabel('Iteration')\n",
        "plt.ylabel('Cross Entropy')\n",
        "\n",
        "# Adding a title to the plot\n",
        "plt.title('Loss over iterations')\n",
        "\n",
        "# Displaying the plot\n",
        "plt.show()"
      ]
    },
    {
      "cell_type": "markdown",
      "metadata": {
        "id": "-Pb1gn7nsjlx"
      },
      "source": [
        "Infrence"
      ]
    },
    {
      "cell_type": "code",
      "execution_count": 20,
      "metadata": {
        "colab": {
          "base_uri": "https://localhost:8080/"
        },
        "id": "YMS-cjyhslmp",
        "outputId": "1f50b92c-e038-4db6-d2c1-290ade45550e"
      },
      "outputs": [
        {
          "name": "stdout",
          "output_type": "stream",
          "text": [
            "seee of domargh.\"\n",
            "\"Row his avear coustim peffes mistait the the hadyestur to mug,\"\n",
            "\"Nit ut disch im so inden youser'ouscqe wilister?\"\n",
            "\"And sharee pet, which lich. marth towes as ag?\"\n",
            "\"He Geir thigs shougst ibl cose is bok:\"\n",
            "\"Nou arthans feat the salll and and, in lid,\"\n",
            "\"Whow  sfelymave a os me therttranctuace.\"\n",
            "\"AS thisp, sow thake sof kelts art thid\"\n",
            "\"o's and must andelr noo. mid Wost with, nowird thered: he asst cooain.\"\n",
            "\"I hellll be are ofer lave seann feat Of\"\n",
            "\"Ait yellit if of Blimbps thistong a Imph swervous, Clak which uthaftstaund,\"\n",
            "\"Wholll and der Garadeetebl and dnowad,\"\n",
            "\"Or arwespseisy coust. and but gros muss highrds I tmings, sfaron is ar sliff: rrevave or: chist doghim,\"\n",
            "\"Tthem thath bedender wiko min, thaglert of thak:\"\n",
            "\"Te apoked over waik.\"\n",
            "\"Thaglt, my as Leak atouref,\"\n",
            "\"Pour notherse for diseat lood uodsar'es-ye dimerin'dn at of ithin.\"\n",
            "\"A hest moll ae, sir if Gotar for\"\n",
            "\"It to bod whath on de wighar to welthat\"\n",
            "\"Ver this cose hid sordyon ther warsed The wich cer aty's\n"
          ]
        }
      ],
      "source": [
        "context = torch.randint(0, vocab_size, (1, 1))# to start infrence pick a random token to start on\n",
        "how_much_token_to_generate=1000\n",
        "infer=decode(model.generate(context, max_new_tokens=how_much_token_to_generate)[0].tolist())\n",
        "print(infer)"
      ]
    }
  ],
  "metadata": {
    "colab": {
      "provenance": []
    },
    "kernelspec": {
      "display_name": "Python 3",
      "name": "python3"
    },
    "language_info": {
      "name": "python"
    }
  },
  "nbformat": 4,
  "nbformat_minor": 0
}
